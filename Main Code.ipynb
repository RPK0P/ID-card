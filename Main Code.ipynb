{
 "cells": [
  {
   "cell_type": "code",
   "execution_count": 23,
   "id": "1ecf3a36-11ce-4390-8568-0e1a21dea857",
   "metadata": {},
   "outputs": [
    {
     "name": "stdout",
     "output_type": "stream",
     "text": [
      "\u001b[1m-\u001b[0m\u001b[1m-\u001b[0m\u001b[1m-\u001b[0m\u001b[1m-\u001b[0m\u001b[1m-\u001b[0m\u001b[1m-\u001b[0m\u001b[1m-\u001b[0m\u001b[1m-\u001b[0m\u001b[1m-\u001b[0m\u001b[1m-\u001b[0m\u001b[1m-\u001b[0m\u001b[1m-\u001b[0m\u001b[1m-\u001b[0m\u001b[1m-\u001b[0m\u001b[1m-\u001b[0m\u001b[1m-\u001b[0m\u001b[1m-\u001b[0m\u001b[1m-\u001b[0m\u001b[1m-\u001b[0m\u001b[1m-\u001b[0m\u001b[1m-\u001b[0m\u001b[1m-\u001b[0m\u001b[1m-\u001b[0m\u001b[1m-\u001b[0m\u001b[1m-\u001b[0m\u001b[1m-\u001b[0m\u001b[1m-\u001b[0m\u001b[1m-\u001b[0m\u001b[1m-\u001b[0m\u001b[1m-\u001b[0m\u001b[1m-\u001b[0m\u001b[1m-\u001b[0m\u001b[1m-\u001b[0m\u001b[1m-\u001b[0m\u001b[1m-\u001b[0m\u001b[1m-\u001b[0m\u001b[1m-\u001b[0m\u001b[1m-\u001b[0m\u001b[1m-\u001b[0m\u001b[1m-\u001b[0m\u001b[1m-\u001b[0m\n",
      "\u001b[1m|\u001b[0m Sansthan Name                         \u001b[1m|\u001b[0m\n",
      "\u001b[1m|                                       |\u001b[0m\n",
      "\u001b[1m|             *COLLAGE NAME*            | \u001b[0m\n",
      "\u001b[1m|                                       |\u001b[0m\n",
      "\u001b[30m\u001b[1m|\u001b[0m \u001b[31m\u001b[1m               Student               \u001b[0m \u001b[30m\u001b[1m|\u001b[1m\n",
      "\u001b[1m|\u001b[0m               \u001b[1m-\u001b[0m\u001b[1m-\u001b[0m\u001b[1m-\u001b[0m\u001b[1m-\u001b[0m\u001b[1m-\u001b[0m\u001b[1m-\u001b[0m\u001b[1m-\u001b[0m\u001b[1m-\u001b[0m\u001b[1m-\u001b[0m               \u001b[1m|\u001b[0m\n",
      "\u001b[1m|\u001b[0m               \u001b[1m|\u001b[0m  ADD  \u001b[1m|\u001b[0m               \u001b[1m|\u001b[0m\n",
      "\u001b[1m|\u001b[0m               \u001b[1m|\u001b[0m Photo \u001b[1m|\u001b[0m               \u001b[1m|\u001b[0m\n",
      "\u001b[1m|\u001b[0m               \u001b[1m-\u001b[0m\u001b[1m-\u001b[0m\u001b[1m-\u001b[0m\u001b[1m-\u001b[0m\u001b[1m-\u001b[0m\u001b[1m-\u001b[0m\u001b[1m-\u001b[0m\u001b[1m-\u001b[0m\u001b[1m-\u001b[0m               \u001b[1m|\u001b[0m\n",
      "\u001b[30m\u001b[1m|\u001b[0m \u001b[34m\u001b[1m             Student Name            \u001b[0m \u001b[30m\u001b[1m|\u001b[1m\n",
      "\u001b[1m|                                       |\u001b[0m\n",
      "\u001b[1m| \u001b[0m Father Name : \u001b[1mABCXXXXXXYZ            |\u001b[0m\n",
      "\u001b[1m| \u001b[0m Student ID  : \u001b[1mABCCSXXXXX             |\u001b[0m\n",
      "\u001b[1m| \u001b[0m Course      : \u001b[1mBachelor Of Technology |\u001b[0m\n",
      "\u001b[1m| \u001b[0m Branch      : \u001b[1mComputer Science       |\u001b[0m\n",
      "\u001b[1m| \u001b[0m Batch       : \u001b[1m20XX-20XX              |\u001b[0m\n",
      "\u001b[1m| \u001b[0m Phone Number: \u001b[1m00XXXXXXXX             |\u001b[0m\n",
      "\u001b[1m| \u001b[0m Address     : \u001b[1mJaipur,Rajasthan,      |\u001b[0m\n",
      "\u001b[1m| \u001b[0m               \u001b[1m3020XX                 |\u001b[0m\n",
      "\u001b[1m|                                       | \u001b[0m\n",
      "\u001b[1m| \u001b[0m Signature                            \u001b[1m| \u001b[0m\n",
      "\u001b[1m| College Address,                      \u001b[1m|\u001b[0m\n",
      "\u001b[1m| ,Jaipur-302022                        \u001b[1m|\u001b[0m\n",
      "\u001b[1m|              Collage Phone-Numaber    \u001b[1m|\u001b[0m\n",
      "\u001b[1m-\u001b[0m\u001b[1m-\u001b[0m\u001b[1m-\u001b[0m\u001b[1m-\u001b[0m\u001b[1m-\u001b[0m\u001b[1m-\u001b[0m\u001b[1m-\u001b[0m\u001b[1m-\u001b[0m\u001b[1m-\u001b[0m\u001b[1m-\u001b[0m\u001b[1m-\u001b[0m\u001b[1m-\u001b[0m\u001b[1m-\u001b[0m\u001b[1m-\u001b[0m\u001b[1m-\u001b[0m\u001b[1m-\u001b[0m\u001b[1m-\u001b[0m\u001b[1m-\u001b[0m\u001b[1m-\u001b[0m\u001b[1m-\u001b[0m\u001b[1m-\u001b[0m\u001b[1m-\u001b[0m\u001b[1m-\u001b[0m\u001b[1m-\u001b[0m\u001b[1m-\u001b[0m\u001b[1m-\u001b[0m\u001b[1m-\u001b[0m\u001b[1m-\u001b[0m\u001b[1m-\u001b[0m\u001b[1m-\u001b[0m\u001b[1m-\u001b[0m\u001b[1m-\u001b[0m\u001b[1m-\u001b[0m\u001b[1m-\u001b[0m\u001b[1m-\u001b[0m\u001b[1m-\u001b[0m\u001b[1m-\u001b[0m\u001b[1m-\u001b[0m\u001b[1m-\u001b[0m\u001b[1m-\u001b[0m\u001b[1m-\u001b[0m\n"
     ]
    }
   ],
   "source": [
    "from colorama import Fore\n",
    "\n",
    "print(\"\\033[1m-\\033[0m\"*41)\n",
    "print(\"\\033[1m|\\033[0m Sansthan Name                         \\033[1m|\\033[0m\")\n",
    "print(f\"\\033[1m|                                       |\\033[0m\")\n",
    "print(f\"\\033[1m{'|             *COLLAGE NAME*            |'.center(42)}\\033[0m\")\n",
    "print(f\"\\033[1m|                                       |\\033[0m\")\n",
    "print(Fore.BLACK+f\"\\033[1m|\\033[0m\",Fore.RED+(f\"\\033[1m{'Student'.center(37)}\\033[0m\"),Fore.BLACK+f\"\\033[1m|\\033[1m\")\n",
    "print(\"\\033[1m|\\033[0m\",\"             \",\"\\033[1m-\\033[0m\"*9,\"             \",\"\\033[1m|\\033[0m\")\n",
    "print(\"\\033[1m|\\033[0m\",\"             \",\"\\033[1m|\\033[0m\",\"ADD\".center(5),\"\\033[1m|\\033[0m\",\"             \",\"\\033[1m|\\033[0m\")\n",
    "print(\"\\033[1m|\\033[0m\",\"             \",\"\\033[1m|\\033[0m\",\"Photo\".center(5),\"\\033[1m|\\033[0m\",\"             \",\"\\033[1m|\\033[0m\")\n",
    "print(\"\\033[1m|\\033[0m\",\"             \",\"\\033[1m-\\033[0m\"*9,\"             \",\"\\033[1m|\\033[0m\")\n",
    "print(Fore.BLACK+f\"\\033[1m|\\033[0m\",Fore.BLUE+(f\"\\033[1m{'Student Name'.center(37)}\\033[0m\"),Fore.BLACK+f\"\\033[1m|\\033[1m\")\n",
    "print(f\"\\033[1m|                                       |\\033[0m\")\n",
    "print(\"\\033[1m| \\033[0m Father Name : \\033[1mABCXXXXXXYZ            |\\033[0m\")\n",
    "print(\"\\033[1m| \\033[0m Student ID  : \\033[1mABCCSXXXXX             |\\033[0m\")\n",
    "print(\"\\033[1m| \\033[0m Course      : \\033[1mBachelor Of Technology |\\033[0m\")\n",
    "print(\"\\033[1m| \\033[0m Branch      : \\033[1mComputer Science       |\\033[0m\")\n",
    "print(\"\\033[1m| \\033[0m Batch       : \\033[1m20XX-20XX              |\\033[0m\")\n",
    "print(\"\\033[1m| \\033[0m Phone Number: \\033[1m00XXXXXXXX             |\\033[0m\")\n",
    "print(\"\\033[1m| \\033[0m Address     : \\033[1mJaipur,Rajasthan,      |\\033[0m\")\n",
    "print(\"\\033[1m| \\033[0m               \\033[1m3020XX                 |\\033[0m\")\n",
    "print(\"\\033[1m|                                       | \\033[0m\")\n",
    "print(\"\\033[1m| \\033[0m Signature                            \\033[1m| \\033[0m\")\n",
    "print(\"\\033[1m| College Address,                      \\033[1m|\\033[0m\")\n",
    "print(\"\\033[1m| ,Jaipur-302022                        \\033[1m|\\033[0m\")\n",
    "print(\"\\033[1m|              Collage Phone-Numaber    \\033[1m|\\033[0m\")\n",
    "print(\"\\033[1m-\\033[0m\"*41)"
   ]
  },
  {
   "cell_type": "code",
   "execution_count": null,
   "id": "f1361b34-29c5-4031-b0f8-7a229699e8dc",
   "metadata": {},
   "outputs": [],
   "source": []
  }
 ],
 "metadata": {
  "kernelspec": {
   "display_name": "Python 3 (ipykernel)",
   "language": "python",
   "name": "python3"
  },
  "language_info": {
   "codemirror_mode": {
    "name": "ipython",
    "version": 3
   },
   "file_extension": ".py",
   "mimetype": "text/x-python",
   "name": "python",
   "nbconvert_exporter": "python",
   "pygments_lexer": "ipython3",
   "version": "3.12.5"
  }
 },
 "nbformat": 4,
 "nbformat_minor": 5
}
